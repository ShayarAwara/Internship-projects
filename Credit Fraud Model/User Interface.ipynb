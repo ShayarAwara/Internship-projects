{
 "cells": [
  {
   "cell_type": "code",
   "execution_count": 1,
   "id": "6c3b370f",
   "metadata": {},
   "outputs": [],
   "source": [
    "import gradio\n",
    "import numpy as np\n",
    "import pandas as pd\n",
    "import pickle\n",
    "import logging"
   ]
  },
  {
   "cell_type": "code",
   "execution_count": 2,
   "id": "ffd2443a",
   "metadata": {},
   "outputs": [],
   "source": [
    "data=pd.read_csv(r\"C:\\Users\\tyagi\\desktop\\official\\study\\data science\\internship\\internship dataset\\traindata.csv\")"
   ]
  },
  {
   "cell_type": "code",
   "execution_count": 3,
   "id": "7a9a074e",
   "metadata": {},
   "outputs": [
    {
     "name": "stdout",
     "output_type": "stream",
     "text": [
      "Index(['Unnamed: 0', 'LIMIT_BAL', 'SEX', 'EDUCATION', 'MARRIAGE', 'AGE',\n",
      "       'PAY_SEPT', 'PAY_AUG', 'PAY_JUL', 'PAY_JUN', 'PAY_MAY', 'PAY_APR',\n",
      "       'BILL_AMT_SEPT', 'BILL_AMT_AUG', 'BILL_AMT_JUL', 'BILL_AMT_JUN',\n",
      "       'BILL_AMT_MAY', 'BILL_AMT_APR', 'PAY_AMT_SEPT', 'PAY_AMT_AUG',\n",
      "       'PAY_AMT_JUL', 'PAY_AMT_JUN', 'PAY_AMT_MAY', 'PAY_AMT_APR'],\n",
      "      dtype='object')\n"
     ]
    }
   ],
   "source": [
    "data.head()\n",
    "print(data.columns)"
   ]
  },
  {
   "cell_type": "code",
   "execution_count": 4,
   "id": "2a2d8eea",
   "metadata": {},
   "outputs": [],
   "source": [
    "logging.basicConfig(filename='UIdeploymentlog.log', level=logging.INFO,\n",
    "                    format='%(levelname)s:%(asctime)s:%(message)s')\n",
    "logger = logging.getLogger(__name__)"
   ]
  },
  {
   "cell_type": "code",
   "execution_count": 5,
   "id": "f8bf9cd8",
   "metadata": {},
   "outputs": [],
   "source": [
    "logger.info('Loading model...')\n",
    "model=pickle.load(open('randomforestclassifiermodel.pkl', 'rb'))"
   ]
  },
  {
   "cell_type": "code",
   "execution_count": 6,
   "id": "c18a785a",
   "metadata": {},
   "outputs": [],
   "source": [
    "logger.info('defining function for input data...')\n",
    "\n",
    "def default(LIMIT_BAL,SEX,EDUCATION,MARRIAGE,\n",
    "            AGE,PAY_1,PAY_2,\n",
    "            PAY_3,PAY_4,PAY_5,PAY_6,BILL_AMT1\n",
    "            ,BILL_AMT2,BILL_AMT3,BILL_AMT4\n",
    "           ,BILL_AMT5,BILL_AMT6,PAY_AMT1,\n",
    "           PAY_AMT2,PAY_AMT3,PAY_AMT4,\n",
    "           PAY_AMT5,PAY_AMT6):\n",
    "    \n",
    "    x = np.array([LIMIT_BAL,SEX,EDUCATION,MARRIAGE,\n",
    "            AGE,PAY_1,PAY_2,\n",
    "            PAY_3,PAY_4,PAY_5,PAY_6,BILL_AMT1\n",
    "            ,BILL_AMT2,BILL_AMT3,BILL_AMT4\n",
    "           ,BILL_AMT5,BILL_AMT6,PAY_AMT1,\n",
    "           PAY_AMT2,PAY_AMT3,PAY_AMT4,\n",
    "           PAY_AMT5,PAY_AMT6])\n",
    "\n",
    "    prediction = model.predict_proba(x.reshape(1, -1))[:, 1]\n",
    "    return prediction"
   ]
  },
  {
   "cell_type": "code",
   "execution_count": 7,
   "id": "bb837d86",
   "metadata": {},
   "outputs": [
    {
     "name": "stderr",
     "output_type": "stream",
     "text": [
      "C:\\Users\\tyagi\\anaconda3\\lib\\site-packages\\gradio\\outputs.py:21: UserWarning: Usage of gradio.outputs is deprecated, and will not be supported in the future, please import your components from gradio.components\n",
      "  warnings.warn(\n"
     ]
    }
   ],
   "source": [
    "logger.info('defining output format...')\n",
    "\n",
    "outputs = gradio.outputs.Textbox()\n",
    "\n",
    "app = gradio.Interface(fn=default, \n",
    "                   inputs=['number','number','number','number',\n",
    "                           'number','number','number','number',\n",
    "                           'number','number',\n",
    "                           'number','number','number','number',\n",
    "                           'number','number',\n",
    "                           'number','number','number','number',\n",
    "                           'number','number','number'], \n",
    "                   outputs=outputs,title=\n",
    "                       \"This is a credit default prediction model\",\n",
    "                      description=\"LIMIT_BAL: Amount of given credit in NT dollars (includes individual and family/supplementary credit \\n \\n SEX: Gender (1=male, 2=female) \\n \\n EDUCATION: (1=graduate school, 2=university, 3=high school, 4=others) \\n \\n MARRIAGE: Marital status (1=married, 2=single, 3=others) \\n \\n AGE: Age in years \\n \\n Scale for PAY_0 to PAY_6 : (-2 = No consumption, -1 = paid in full, 0 = use of revolving credit (paid minimum only), 1 = payment delay for one month, 2 = payment delay for two months, ... 8 = payment delay for eight months, 9 = payment delay for nine months and above) \\n \\n PAY_1: Repayment status of 1st month \\n \\n PAY_2: Repayment status of 2nd month \\n \\n PAY_3: Repayment status of 3rd month and so on till 6th month \\n \\n BILL_AMT1: Amount of bill statement of first month and so on till 6th month \\n \\n PAY_AMT1: Amount of previous payment in first month and so on till 6th month\")"
   ]
  },
  {
   "cell_type": "code",
   "execution_count": 8,
   "id": "12fef205",
   "metadata": {},
   "outputs": [
    {
     "name": "stdout",
     "output_type": "stream",
     "text": [
      "Running on local URL:  http://127.0.0.1:7860\n",
      "Running on public URL: https://cdb3557b-c304-4a3b.gradio.live\n",
      "\n",
      "This share link expires in 72 hours. For free permanent hosting and GPU upgrades (NEW!), check out Spaces: https://huggingface.co/spaces\n"
     ]
    },
    {
     "data": {
      "text/html": [
       "<div><iframe src=\"https://cdb3557b-c304-4a3b.gradio.live\" width=\"100%\" height=\"500\" allow=\"autoplay; camera; microphone; clipboard-read; clipboard-write;\" frameborder=\"0\" allowfullscreen></iframe></div>"
      ],
      "text/plain": [
       "<IPython.core.display.HTML object>"
      ]
     },
     "metadata": {},
     "output_type": "display_data"
    }
   ],
   "source": [
    "logger.info('Creating URL...')\n",
    "\n",
    "app.launch(share=True)\n",
    "logger.info('App launched!')"
   ]
  },
  {
   "cell_type": "code",
   "execution_count": null,
   "id": "41d3f8a8",
   "metadata": {},
   "outputs": [],
   "source": []
  },
  {
   "cell_type": "code",
   "execution_count": null,
   "id": "38184a4d",
   "metadata": {},
   "outputs": [],
   "source": []
  }
 ],
 "metadata": {
  "kernelspec": {
   "display_name": "Python 3 (ipykernel)",
   "language": "python",
   "name": "python3"
  },
  "language_info": {
   "codemirror_mode": {
    "name": "ipython",
    "version": 3
   },
   "file_extension": ".py",
   "mimetype": "text/x-python",
   "name": "python",
   "nbconvert_exporter": "python",
   "pygments_lexer": "ipython3",
   "version": "3.9.7"
  }
 },
 "nbformat": 4,
 "nbformat_minor": 5
}
